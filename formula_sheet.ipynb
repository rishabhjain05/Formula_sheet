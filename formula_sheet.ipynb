{
 "cells": [
  {
   "cell_type": "code",
   "execution_count": 15,
   "metadata": {
    "collapsed": true,
    "pycharm": {
     "is_executing": false
    }
   },
   "outputs": [
    {
     "name": "stdout",
     "output_type": "stream",
     "text": [
      "Area of the triangle is 3.0\n"
     ]
    }
   ],
   "source": [
    "# Area of Triangle\n",
    "base = int(input(\"Enter the value of base\"))\n",
    "height = int(input(\"Enter the height of the triangle\"))\n",
    "Area = 0.5 * base * height\n",
    "print(\"Area of the triangle is\", Area)"
   ]
  },
  {
   "cell_type": "code",
   "execution_count": 10,
   "metadata": {
    "pycharm": {
     "is_executing": false,
     "name": "#%%\n"
    }
   },
   "outputs": [
    {
     "name": "stdout",
     "output_type": "stream",
     "text": [
      "Area of Equilateral triangle is 27.712812921102035\n",
      "Altitude of Equilateral triangle is 6.928203230275509\n"
     ]
    }
   ],
   "source": [
    "# Area and Altitude of Equilateral Triangle\n",
    "from math import sqrt\n",
    "Eqt_side = int(input(\"Enter the side of equilateral triangle\"))\n",
    "Eqt_area = (sqrt (3)/4) * pow(Eqt_side,2)\n",
    "print(\"Area of Equilateral triangle is\", Eqt_area)\n",
    "Altitude = (sqrt (3)/2) * Eqt_side\n",
    "print(\"Altitude of Equilateral triangle is\", Altitude)"
   ]
  },
  {
   "cell_type": "code",
   "execution_count": 16,
   "metadata": {
    "pycharm": {
     "is_executing": false,
     "name": "#%%\n"
    }
   },
   "outputs": [
    {
     "name": "stdout",
     "output_type": "stream",
     "text": [
      "Third side of the triangle will be 5.0\n"
     ]
    }
   ],
   "source": [
    "# Third side of Triangle using Pythagoras Property\n",
    "# Applicable only when triangle is a right angle triangle\n",
    "from math import sqrt\n",
    "side1_perpendicular = int(input(\"Enter the first side (perpendicular)\"))\n",
    "side2_base = int(input(\"Enter the second side (base)\"))\n",
    "side3_hypotenuse = int(input(\"Enter the third side (hypotenuse)\"))\n",
    "\n",
    "if side1_perpendicular == 0:\n",
    "    side1_perpendicular = sqrt(pow(side3_hypotenuse,2) - pow(side2_base,2))\n",
    "    print(\"Third side of the triangle will be\", side1_perpendicular)\n",
    "elif side2_base == 0:\n",
    "    side2_base = sqrt(pow(side3_hypotenuse,2) - pow(side1_perpendicular,2))\n",
    "    print(\"Third side of the triangle will be\", side2_base)\n",
    "elif side3_hypotenuse == 0:\n",
    "    side3_hypotenuse = sqrt(pow(side1_perpendicular ,2) + pow(side2_base,2))\n",
    "    print(\"Third side of the triangle will be\", side3_hypotenuse)"
   ]
  },
  {
   "cell_type": "code",
   "execution_count": null,
   "metadata": {
    "pycharm": {
     "name": "#%%\n"
    }
   },
   "outputs": [],
   "source": [
    "# All primary operation Calculator\n",
    "num1 = int(input(\"Enter the value of first number\"))\n",
    "num2 = int(input(\"Enter the value of second number\"))\n",
    "Addition = num1 + num2\n",
    "print(\"Sum of two number is\", Addition)\n",
    "Subtraction = num1 - num2\n",
    "print(\"Difference of two number is\", Subtraction)\n",
    "Multiplication = num1 * num2\n",
    "print(\"Product of two number is\", Multiplication)\n",
    "Division = num1 / num2\n",
    "print(\"Division of two number is\", Division)"
   ]
  },
  {
   "cell_type": "code",
   "execution_count": null,
   "metadata": {
    "pycharm": {
     "name": "#%%\n"
    }
   },
   "outputs": [],
   "source": [
    "# To find the square root of the number\n",
    "\n",
    "from math import sqrt\n",
    "number = int(input(\"Enter the number for which you want to find square root\"))\n",
    "result = sqrt(number)\n",
    "print(\"The square root of the number is\",result)"
   ]
  },
  {
   "cell_type": "code",
   "execution_count": null,
   "metadata": {
    "pycharm": {
     "name": "#%%\n"
    }
   },
   "outputs": [],
   "source": [
    "# The most efficient way to find square root of number, can also used find root of complex numbers\n",
    "# eval is used for complex number input from user\n",
    "import cmath\n",
    "number = eval(input(\"Enter the number for which you want to find square root\"))\n",
    "result = cmath.sqrt(number)\n",
    "print(\"The square root of the number is\",result)"
   ]
  },
  {
   "cell_type": "code",
   "execution_count": null,
   "metadata": {
    "pycharm": {
     "name": "#%%\n"
    }
   },
   "outputs": [],
   "source": [
    "# program to solve quadratic equations\n",
    "#ax^2+bx+c=0\n",
    "a_x = int(input(\"Enter the value of a\"))\n",
    "b_x = int(input(\"Enter the value of b\"))\n",
    "c_x = int(input(\"Enter the value of c\"))\n",
    "print(\"So applying all the coefficient in the 'Sridharacharya formula'\")\n",
    "x1 = (-(b_x) - (sqrt(pow(b_x,2)-4*a_x*c_x))) / 2*a_x\n",
    "x2 = (-(b_x) + (sqrt(pow(b_x,2)-4*a_x*c_x))) / 2*a_x\n",
    "print(\"The first root of quadratic equation is\", x1)\n",
    "print(\"The second root of quadratic equation is\", x2)"
   ]
  },
  {
   "cell_type": "code",
   "execution_count": null,
   "metadata": {
    "pycharm": {
     "name": "#%%\n"
    }
   },
   "outputs": [],
   "source": [
    "\n"
   ]
  }
 ],
 "metadata": {
  "kernelspec": {
   "display_name": "Python 3",
   "language": "python",
   "name": "python3"
  },
  "language_info": {
   "codemirror_mode": {
    "name": "ipython",
    "version": 3
   },
   "file_extension": ".py",
   "mimetype": "text/x-python",
   "name": "python",
   "nbconvert_exporter": "python",
   "pygments_lexer": "ipython3",
   "version": "3.7.3"
  },
  "pycharm": {
   "stem_cell": {
    "cell_type": "raw",
    "metadata": {
     "collapsed": false
    },
    "source": []
   }
  }
 },
 "nbformat": 4,
 "nbformat_minor": 1
}
