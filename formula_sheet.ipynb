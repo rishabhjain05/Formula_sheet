{
 "cells": [
  {
   "cell_type": "markdown",
   "metadata": {},
   "source": [
    "# Basic Shapes"
   ]
  },
  {
   "cell_type": "code",
   "execution_count": 14,
   "metadata": {},
   "outputs": [
    {
     "name": "stdout",
     "output_type": "stream",
     "text": [
      "Enter the value of side, if not known put 0: 0\n",
      "Enter the value of diagonal,if not known put 0: 0\n"
     ]
    }
   ],
   "source": [
    "## not confim_-___-_--_--__-__-======\n",
    "\n",
    "# Area of Square (Both method)\n",
    "side = float(input(\"Enter the value of side, if not known put 0: \"))\n",
    "diagonal = float(input(\"Enter the value of diagonal,if not known put 0: \"))\n",
    "if side != 0:\n",
    "    s_s = pow(side,2)\n",
    "    print(\"Area of Square is: \",s_s)\n",
    "elif diagonal != 0: #ask for this\n",
    "    d_d = ((0.5) * pow(diagonal,2))\n",
    "    print(\"Area of Square is: \",d_d)"
   ]
  },
  {
   "cell_type": "code",
   "execution_count": 10,
   "metadata": {},
   "outputs": [
    {
     "name": "stdout",
     "output_type": "stream",
     "text": [
      "Enter the value of length: 5\n",
      "Enter the value of breadth: 5\n",
      "Area of the rectangle is:  25.0\n"
     ]
    }
   ],
   "source": [
    "# Area of Rectangle\n",
    "length = float(input(\"Enter the value of length: \"))\n",
    "breadth = float(input(\"Enter the value of breadth: \"))\n",
    "area_rect = (length * breadth)\n",
    "print(\"Area of the rectangle is: \",area_rect)"
   ]
  },
  {
   "cell_type": "code",
   "execution_count": null,
   "metadata": {
    "pycharm": {
     "is_executing": false
    }
   },
   "outputs": [],
   "source": [
    "# Area of Triangle\n",
    "base = float(input(\"Enter the value of base: \"))\n",
    "height = float(input(\"Enter the height of the triangle: \"))\n",
    "Area = 0.5 * base * height\n",
    "print(\"Area of the triangle is: \", Area)"
   ]
  },
  {
   "cell_type": "code",
   "execution_count": null,
   "metadata": {
    "pycharm": {
     "is_executing": false,
     "name": "#%%\n"
    }
   },
   "outputs": [],
   "source": [
    "# Area and Altitude of Equilateral Triangle\n",
    "from math import sqrt\n",
    "Eqt_side = float(input(\"Enter the side of equilateral triangle: \"))\n",
    "Eqt_area = (sqrt (3)/4) * pow(Eqt_side,2)\n",
    "print(\"Area of Equilateral triangle is: \",Eqt_area)\n",
    "Altitude = (sqrt (3)/2) * Eqt_side\n",
    "print(\"Altitude of Equilateral triangle is: \",Altitude)"
   ]
  },
  {
   "cell_type": "code",
   "execution_count": 1,
   "metadata": {
    "pycharm": {
     "is_executing": false,
     "name": "#%%\n"
    }
   },
   "outputs": [
    {
     "name": "stdout",
     "output_type": "stream",
     "text": [
      "Enter the first side (perpendicular): 2\n",
      "Enter the second side (base): 3\n",
      "Enter the third side (hypotenuse): 5\n",
      "You know all three sides, please proceed further\n"
     ]
    }
   ],
   "source": [
    "# Third side of Triangle using Pythagoras Property\n",
    "# Applicable only when triangle is a right angle triangle\n",
    "from math import sqrt\n",
    "side1_perpendicular = float(input(\"Enter the first side (perpendicular): \"))\n",
    "side2_base = float(input(\"Enter the second side (base): \"))\n",
    "side3_hypotenuse = float(input(\"Enter the third side (hypotenuse): \"))\n",
    "\n",
    "if side1_perpendicular == 0:\n",
    "    side1_perpendicular = sqrt(pow(side3_hypotenuse,2) - pow(side2_base,2))\n",
    "    print(\"Third side of the triangle will be: \",side1_perpendicular)\n",
    "elif side2_base == 0:\n",
    "    side2_base = sqrt(pow(side3_hypotenuse,2) - pow(side1_perpendicular,2))\n",
    "    print(\"Third side of the triangle will be: \",side2_base)\n",
    "elif side3_hypotenuse == 0:\n",
    "    side3_hypotenuse = sqrt(pow(side1_perpendicular ,2) + pow(side2_base,2))\n",
    "    print(\"Third side of the triangle will be: \",side3_hypotenuse)\n",
    "elif side1_perpendicular != 0 and side2_base != 0 and side3_hypotenuse !=0:\n",
    "    print(\"You know all three sides, please proceed further\")"
   ]
  },
  {
   "cell_type": "code",
   "execution_count": 2,
   "metadata": {},
   "outputs": [
    {
     "name": "stdout",
     "output_type": "stream",
     "text": [
      "Enter the value of first side: 5\n",
      "Enter the value of second side: 6\n",
      "Enter the distance between two sides: 8\n",
      "Area of the trapezoid is:  44.0\n"
     ]
    }
   ],
   "source": [
    "# Area of Trapezoid\n",
    "side1 = float(input(\"Enter the value of first side: \"))\n",
    "side2 = float(input(\"Enter the value of second side: \"))\n",
    "sum_t = side1 + side2\n",
    "distance = float(input(\"Enter the distance between two sides: \"))\n",
    "calculation = ((0.5) * (sum_t) *(distance))\n",
    "print(\"Area of the trapezoid is: \",calculation)"
   ]
  },
  {
   "cell_type": "code",
   "execution_count": 4,
   "metadata": {},
   "outputs": [
    {
     "name": "stdout",
     "output_type": "stream",
     "text": [
      "Enter the value of base: 8\n",
      "Enter the value of height: 9\n",
      "Area of the parallelogram is:  72.0\n"
     ]
    }
   ],
   "source": [
    "# Area of Parallelogram\n",
    "base = float(input(\"Enter the value of base: \"))\n",
    "height = float(input(\"Enter the value of height: \"))\n",
    "area = (base * height)\n",
    "print(\"Area of the parallelogram is: \",area)"
   ]
  },
  {
   "cell_type": "code",
   "execution_count": 5,
   "metadata": {},
   "outputs": [
    {
     "name": "stdout",
     "output_type": "stream",
     "text": [
      "Enter the value of first diagonal: 5\n",
      "Enter the value of second diagonal: 6\n",
      "Area of the rhombus is:  15.0\n"
     ]
    }
   ],
   "source": [
    "# Area of Rhombus\n",
    "diagonal1 = float(input(\"Enter the value of first diagonal: \"))\n",
    "diagonal2 = float(input(\"Enter the value of second diagonal: \"))\n",
    "product_d = (diagonal1 * diagonal2)\n",
    "area = ((0.5) * (product_d))\n",
    "print(\"Area of the rhombus is: \", area)"
   ]
  },
  {
   "cell_type": "code",
   "execution_count": null,
   "metadata": {},
   "outputs": [],
   "source": []
  },
  {
   "cell_type": "code",
   "execution_count": null,
   "metadata": {},
   "outputs": [],
   "source": []
  },
  {
   "cell_type": "code",
   "execution_count": null,
   "metadata": {
    "pycharm": {
     "name": "#%%\n"
    }
   },
   "outputs": [],
   "source": [
    "# All primary operation Calculator\n",
    "num1 = int(input(\"Enter the value of first number\"))\n",
    "num2 = int(input(\"Enter the value of second number\"))\n",
    "Addition = num1 + num2\n",
    "print(\"Sum of two number is\", Addition)\n",
    "Subtraction = num1 - num2\n",
    "print(\"Difference of two number is\", Subtraction)\n",
    "Multiplication = num1 * num2\n",
    "print(\"Product of two number is\", Multiplication)\n",
    "Division = num1 / num2\n",
    "print(\"Division of two number is\", Division)"
   ]
  },
  {
   "cell_type": "code",
   "execution_count": null,
   "metadata": {
    "pycharm": {
     "name": "#%%\n"
    }
   },
   "outputs": [],
   "source": [
    "# To find the square root of the number\n",
    "\n",
    "from math import sqrt\n",
    "number = int(input(\"Enter the number for which you want to find square root\"))\n",
    "result = sqrt(number)\n",
    "print(\"The square root of the number is\",result)"
   ]
  },
  {
   "cell_type": "code",
   "execution_count": null,
   "metadata": {
    "pycharm": {
     "name": "#%%\n"
    }
   },
   "outputs": [],
   "source": [
    "# The most efficient way to find square root of number, can also used find root of complex numbers\n",
    "# eval is used for complex number input from user\n",
    "import cmath\n",
    "number = eval(input(\"Enter the number for which you want to find square root\"))\n",
    "result = cmath.sqrt(number)\n",
    "print(\"The square root of the number is\",result)"
   ]
  },
  {
   "cell_type": "code",
   "execution_count": null,
   "metadata": {
    "pycharm": {
     "name": "#%%\n"
    }
   },
   "outputs": [],
   "source": [
    "# Program to solve quadratic equations\n",
    "#ax^2+bx+c=0\n",
    "a_x = int(input(\"Enter the value of a\"))\n",
    "b_x = int(input(\"Enter the value of b\"))\n",
    "c_x = int(input(\"Enter the value of c\"))\n",
    "print(\"So applying all the coefficient in the 'Sridharacharya formula'\")\n",
    "x1 = (-(b_x) - (sqrt(pow(b_x,2)-4*a_x*c_x))) / 2*a_x\n",
    "x2 = (-(b_x) + (sqrt(pow(b_x,2)-4*a_x*c_x))) / 2*a_x\n",
    "print(\"The first root of quadratic equation is\", x1)\n",
    "print(\"The second root of quadratic equation is\", x2)"
   ]
  }
 ],
 "metadata": {
  "kernelspec": {
   "display_name": "Python 3",
   "language": "python",
   "name": "python3"
  },
  "language_info": {
   "codemirror_mode": {
    "name": "ipython",
    "version": 3
   },
   "file_extension": ".py",
   "mimetype": "text/x-python",
   "name": "python",
   "nbconvert_exporter": "python",
   "pygments_lexer": "ipython3",
   "version": "3.7.3"
  },
  "pycharm": {
   "stem_cell": {
    "cell_type": "raw",
    "metadata": {
     "collapsed": false
    },
    "source": []
   }
  }
 },
 "nbformat": 4,
 "nbformat_minor": 1
}
