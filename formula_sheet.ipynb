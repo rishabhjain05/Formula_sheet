
# Basic Shapes


```python
# Area of Square (Both method)
side = float(input("Enter the value of side, if not known put 0: "))
diagonal = float(input("Enter the value of diagonal,if not known put 0: "))
if side != 0:
    s_s = pow(side,2)
    print("Area of Square is: ",s_s)
elif diagonal != 0:
    d_d = ((0.5) * pow(diagonal,2))
    print("Area of Square is: ",d_d)
```


```python
# Area of Rectangle
length = float(input("Enter the value of length: "))
breadth = float(input("Enter the value of breadth: "))
area_rect = (length * breadth)
print("Area of the rectangle is: ",area_rect)
```


```python
# Area of Triangle
base = float(input("Enter the value of base: "))
height = float(input("Enter the height of the triangle: "))
Area = 0.5 * base * height
print("Area of the triangle is: ", Area)
```


```python
# Area and Altitude of Equilateral Triangle
from math import sqrt
Eqt_side = float(input("Enter the side of equilateral triangle: "))
Eqt_area = (sqrt (3)/4) * pow(Eqt_side,2)
print("Area of Equilateral triangle is: ",Eqt_area)
Altitude = (sqrt (3)/2) * Eqt_side
print("Altitude of Equilateral triangle is: ",Altitude)
```


```python
# Third side of Triangle using Pythagoras Property
# Applicable only when triangle is a right angle triangle
from math import sqrt
side1_perpendicular = float(input("Enter the value of (perpendicular), if not know put 0: "))
side2_base = float(input("Enter the value of (base), if not know put 0: "))
side3_hypotenuse = float(input("Enter the value of (hypotenuse), if not know put 0: "))

if side1_perpendicular == 0:
    side1_perpendicular = sqrt(pow(side3_hypotenuse,2) - pow(side2_base,2))
    print("Third side of the triangle will be: ",side1_perpendicular)
elif side2_base == 0:
    side2_base = sqrt(pow(side3_hypotenuse,2) - pow(side1_perpendicular,2))
    print("Third side of the triangle will be: ",side2_base)
elif side3_hypotenuse == 0:
    side3_hypotenuse = sqrt(pow(side1_perpendicular ,2) + pow(side2_base,2))
    print("Third side of the triangle will be: ",side3_hypotenuse)
elif side1_perpendicular != 0 and side2_base != 0 and side3_hypotenuse !=0:
    print("You know all three sides, please proceed further")
```


```python
# Area of Trapezoid
side1 = float(input("Enter the value of first side: "))
side2 = float(input("Enter the value of second side: "))
sum_t = side1 + side2
distance = float(input("Enter the distance between two sides: "))
calculation = ((0.5) * (sum_t) *(distance))
print("Area of the trapezoid is: ",calculation)
```


```python
# Area of Parallelogram
base = float(input("Enter the value of base: "))
height = float(input("Enter the value of height: "))
area = (base * height)
print("Area of the parallelogram is: ",area)
```


```python
# Area of Rhombus
diagonal1 = float(input("Enter the value of first diagonal: "))
diagonal2 = float(input("Enter the value of second diagonal: "))
product_d = (diagonal1 * diagonal2)
area = ((0.5) * (product_d))
print("Area of the rhombus is: ", area)
```


```python
# Area of circle
from math import pi
radius = float(input("Enter the value of radius, if not know put 0: "))
diam = float(input("Enter the value of diameter, if not know put 0: "))
if radius != 0:
    c_area = ((pi) * pow(radius,2))
    print("Area of circle is: ",c_area)
elif diam != 0:
    d_radius = diam/2
    cd_area = ((pi) * pow(d_radius,2))
    print("Area of circle is: ",cd_area)
elif radius == 0 and diam == 0:
    print("Sorry, but one value should be known. Both values can't be zero")
```


```python
# Circumference of circle
from math import pi
c_radius = float(input("Enter the value of radius, if not know put 0: "))
c_diam = float(input("Enter the value of diameter, if not know put 0: "))
if c_radius != 0:
    circumference = (2 * (pi) * (c_radius))
    print("Circumference of circle is: ",circumference)
elif c_diam != 0:
    c_radius = c_diam/2
    circumference = (2 * (pi) * (c_radius))
    print("Circumference of circle is: ",circumference)
elif c_radius == 0 and c_diam == 0:
    print("Sorry, but one value should be known. Both values can't be zero")
```

# 3D shapes


```python

```

# More Mathematical Formulas


```python
# All primary operation Calculator
num1 = int(input("Enter the value of first number"))
num2 = int(input("Enter the value of second number"))
Addition = num1 + num2
print("Sum of two number is", Addition)
Subtraction = num1 - num2
print("Difference of two number is", Subtraction)
Multiplication = num1 * num2
print("Product of two number is", Multiplication)
Division = num1 / num2
print("Division of two number is", Division)
```


```python
# To find the square root of the number
# The most efficient way to find square root of number, can also used find root of complex numbers
# eval is used for complex number input from user
import cmath
number = eval(input("Enter the number for which you want to find square root"))
result = cmath.sqrt(number)
print("The square root of the number is",result)
```


```python
# Program to solve quadratic equations
#ax^2+bx+c=0
a_x = int(input("Enter the value of a"))
b_x = int(input("Enter the value of b"))
c_x = int(input("Enter the value of c"))
print("So applying all the coefficient in the 'Sridharacharya formula'")
x1 = (-(b_x) - (sqrt(pow(b_x,2)-4*a_x*c_x))) / 2*a_x
x2 = (-(b_x) + (sqrt(pow(b_x,2)-4*a_x*c_x))) / 2*a_x
print("The first root of quadratic equation is", x1)
print("The second root of quadratic equation is", x2)
```


```python
# Arithmetic Progression (AP)
# Represented as:- a,a+d,a+2d,a+3d..etc (a = First Term, b = Common Difference)
# Finding the last(nth) term of AP, Finding the first term of AP, Finding the common difference of AP, Total terms in an AP.
# Finding Sum of an AP.

nth_last_term = float(input("Please insert the last term of an AP, if not known put zero: "))
a_first_term = float(input("Please insert the first term of an AP, if not known put zero: "))
d_common_difference = float(input("Please insert the common difference, if not known put zero: "))
n_total_term = float(input("Please insert total number of terms,if not known put zero: "))

if nth_last_term == 0:
    nth_last_term = (a_first_term+(n_total_term-1)*d_common_difference)
    print("The last term of AP will be:- ",nth_last_term)
elif a_first_term == 0:
    a_first_term = (nth_last_term - ((n_total_term-1)*d_common_difference))
    print("The first term of AP will be:- ",a_first_term)
elif d_common_difference == 0:
    d_common_difference = ((nth_last_term - a_first_term) / (n_total_term-1))
    print("The common difference of AP will be:- ",d_common_difference)
elif n_total_term == 0:
    n_total_term = (((nth_last_term - a_first_term) / d_common_difference) + 1)
    print("The total terms in AP will be:- ",n_total_term)
    
sum_ap =  ((n_total_term / 2) * (a_first_term + nth_last_term))
print("Sum of AP will be:- ",sum_ap)
```


```python
# Geometric Progression (GP)
# Represented as:- a, a(r), a(r)^2, a(r)^3, etc,..
import cmath 
a_gp = float(input("Enter the first term of GP: "))
r_gp = float(input("Enter the common ratio of GP: "))
n_gp = float(input("Enter the specific terms of GP, you want to find: "))

n_gp = (a_gp * pow(r_gp,(n_gp-1)))
print("The term will be:- ",n_gp)
```

    Enter the first term of GP: 1
    Enter the common ratio of GP: 2
    Enter the specific terms of GP, you want to find: 12
    The term will be:-  2048.0
    
